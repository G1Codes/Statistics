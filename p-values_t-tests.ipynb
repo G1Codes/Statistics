{
 "cells": [
  {
   "cell_type": "code",
   "execution_count": 8,
   "metadata": {},
   "outputs": [],
   "source": [
    "import pandas as pd\n",
    "import numpy as np\n",
    "import matplotlib.pyplot as plt\n",
    "import seaborn as sns\n",
    "pd.set_option('display.max_columns', 200)"
   ]
  },
  {
   "cell_type": "markdown",
   "metadata": {},
   "source": [
    "# 1- sample t-test"
   ]
  },
  {
   "cell_type": "code",
   "execution_count": 1,
   "metadata": {},
   "outputs": [
    {
     "name": "stdout",
     "output_type": "stream",
     "text": [
      "Sample Mean: 75.50\n",
      "t-Statistic: 0.52\n",
      "P-value: 0.6141\n",
      "Fail to reject the null hypothesis: There is no significant difference from 75.\n"
     ]
    }
   ],
   "source": [
    "import numpy as np\n",
    "from scipy import stats\n",
    "\n",
    "# Sample data\n",
    "test_scores = np.array([72, 78, 74, 80, 76, 79, 71, 77, 73, 75])\n",
    "\n",
    "# Sample statistics\n",
    "sample_mean = np.mean(test_scores)\n",
    "sample_std = np.std(test_scores, ddof=1)  # ddof=1 for sample standard deviation\n",
    "n = len(test_scores)\n",
    "mu0 = 75  # Hypothesized population mean\n",
    "\n",
    "# t-test calculation\n",
    "t_statistic, p_value = stats.ttest_1samp(test_scores, mu0)\n",
    "\n",
    "# Output results\n",
    "print(f\"Sample Mean: {sample_mean:.2f}\")\n",
    "print(f\"t-Statistic: {t_statistic:.2f}\")\n",
    "print(f\"P-value: {p_value:.4f}\")\n",
    "\n",
    "# Decision\n",
    "alpha = 0.05\n",
    "if p_value < alpha:\n",
    "    print(\"Reject the null hypothesis: The average score is significantly different from 75.\")\n",
    "else:\n",
    "    print(\"Fail to reject the null hypothesis: There is no significant difference from 75.\")\n"
   ]
  },
  {
   "cell_type": "code",
   "execution_count": 4,
   "metadata": {},
   "outputs": [
    {
     "name": "stdout",
     "output_type": "stream",
     "text": [
      "0.21631974483731498\n"
     ]
    }
   ],
   "source": [
    "from scipy.stats import t\n",
    "\n",
    "# Set the t-value and degrees of freedom\n",
    "t_value = -1.25\n",
    "df = 58  # Replace this with your specific degrees of freedom\n",
    "\n",
    "# Calculate the CDF value\n",
    "cdf_value = t.cdf(t_value, df)\n",
    "print(cdf_value*2)"
   ]
  },
  {
   "cell_type": "code",
   "execution_count": 5,
   "metadata": {},
   "outputs": [
    {
     "name": "stdout",
     "output_type": "stream",
     "text": [
      "t-statistic: 2.1971768720102216\n",
      "p-value: 0.045339544447787296\n"
     ]
    }
   ],
   "source": [
    "from scipy import stats\n",
    "\n",
    "sample = [172, 173, 170, 171, 175, 169, 168, 171, 174, 172, 170, 173, 169, 168, 175]\n",
    "pop_mean = 170\n",
    "\n",
    "t_stat, p_value = stats.ttest_1samp(sample, pop_mean)\n",
    "print(\"t-statistic:\", t_stat)\n",
    "print(\"p-value:\", p_value)\n"
   ]
  },
  {
   "cell_type": "markdown",
   "metadata": {},
   "source": [
    "\n",
    "## Calculate normality"
   ]
  },
  {
   "cell_type": "code",
   "execution_count": 6,
   "metadata": {},
   "outputs": [
    {
     "data": {
      "text/plain": [
       "ShapiroResult(statistic=0.9439239864192895, pvalue=0.43427816254063606)"
      ]
     },
     "execution_count": 6,
     "metadata": {},
     "output_type": "execute_result"
    }
   ],
   "source": [
    "from scipy.stats import shapiro\n",
    "sample = [172, 173, 170, 171, 175, 169, 168, 171, 174, 172, 170, 173, 169, 168, 175]\n",
    "shapiro(sample)\n",
    "\n",
    "# If the p-value is greater than your chosen significance level (α = 0.05), \n",
    "# # you can assume the data comes from a normally distributed population. \n",
    "\n",
    "# If the p-value is less than or equal to the significance level, the normality assumption is not met, \n",
    "# and you should consider applying a data transformation or using a non-parametric test like the Mann-Whitney U test"
   ]
  },
  {
   "cell_type": "code",
   "execution_count": 13,
   "metadata": {},
   "outputs": [
    {
     "data": {
      "text/plain": [
       "<Axes: ylabel='Density'>"
      ]
     },
     "execution_count": 13,
     "metadata": {},
     "output_type": "execute_result"
    },
    {
     "data": {
      "image/png": "[encoded data removed]",
      "text/plain": [
       "<Figure size 640x480 with 1 Axes>"
      ]
     },
     "metadata": {},
     "output_type": "display_data"
    }
   ],
   "source": [
    "sns.kdeplot(sample)"
   ]
  },
  {
   "cell_type": "markdown",
   "metadata": {},
   "source": [
    "# Independent 2 sample t-test"
   ]
  },
  {
   "cell_type": "code",
   "execution_count": 14,
   "metadata": {},
   "outputs": [
    {
     "name": "stdout",
     "output_type": "stream",
     "text": [
      "t-statistic: -3.943177666481369\n",
      "p-value: 0.00020453756573145986\n",
      "Reject the null hypothesis: The means are significantly different.\n"
     ]
    }
   ],
   "source": [
    "import numpy as np\n",
    "from scipy import stats\n",
    "\n",
    "# Generate random samples for two independent groups\n",
    "np.random.seed(42)\n",
    "group1 = np.random.normal(loc=170, scale=5, size=30)  # Mean=170, Std=5, n=30\n",
    "group2 = np.random.normal(loc=175, scale=6, size=35)  # Mean=175, Std=6, n=35\n",
    "\n",
    "# Perform an independent t-test\n",
    "t_stat, p_value = stats.ttest_ind(group1, group2, equal_var=True)  # Assuming equal variances\n",
    "\n",
    "# Output results\n",
    "print(\"t-statistic:\", t_stat)\n",
    "print(\"p-value:\", p_value)\n",
    "\n",
    "# Check significance at α = 0.05\n",
    "alpha = 0.05\n",
    "if p_value < alpha:\n",
    "    print(\"Reject the null hypothesis: The means are significantly different.\")\n",
    "else:\n",
    "    print(\"Fail to reject the null hypothesis: No significant difference in means.\")\n"
   ]
  },
  {
   "cell_type": "code",
   "execution_count": 15,
   "metadata": {},
   "outputs": [
    {
     "name": "stdout",
     "output_type": "stream",
     "text": [
      "Shapiro-Wilk test for desktop users: ShapiroResult(statistic=0.9783115512411942, pvalue=0.7791003299808725)\n",
      "Shapiro-Wilk test for mobile users: ShapiroResult(statistic=0.9714355768676655, pvalue=0.5791606602037616)\n"
     ]
    }
   ],
   "source": [
    "desktop_users = [12, 15, 18, 16, 20, 17, 14, 22, 19, 21, 23, 18, 25, 17, 16, 24, 20, 19, 22, 18, 15, 14, 23, 16, 12, 21, 19, 17, 20, 14]\n",
    "mobile_users = [10, 12, 14, 13, 16, 15, 11, 17, 14, 16, 18, 14, 20, 15, 14, 19, 16, 15, 17, 14, 12, 11, 18, 15, 10, 16, 15, 13, 16, 11]\n",
    "\n",
    "# Perform the Shapiro-Wilk test for both desktop and mobile users\n",
    "shapiro_desktop = shapiro(desktop_users)\n",
    "shapiro_mobile = shapiro(mobile_users)\n",
    "\n",
    "print(\"Shapiro-Wilk test for desktop users:\", shapiro_desktop)\n",
    "print(\"Shapiro-Wilk test for mobile users:\", shapiro_mobile)"
   ]
  },
  {
   "cell_type": "code",
   "execution_count": 17,
   "metadata": {},
   "outputs": [
    {
     "name": "stdout",
     "output_type": "stream",
     "text": [
      "LeveneResult(statistic=2.94395488191752, pvalue=0.09153720526741756)\n"
     ]
    }
   ],
   "source": [
    "# Perform Levene's test\n",
    "\n",
    "from scipy.stats import levene\n",
    "\n",
    "levene_test = levene(desktop_users, mobile_users)\n",
    "print(levene_test)"
   ]
  },
  {
   "cell_type": "code",
   "execution_count": 20,
   "metadata": {},
   "outputs": [
    {
     "name": "stdout",
     "output_type": "stream",
     "text": [
      "t-statistic: 4.625335930681123\n",
      "p-value: 2.1422811334975257e-05\n"
     ]
    }
   ],
   "source": [
    "t_stat, p_value = stats.ttest_ind(desktop_users, mobile_users)\n",
    "print(\"t-statistic:\", t_stat)\n",
    "print  (\"p-value:\", p_value)"
   ]
  },
  {
   "cell_type": "markdown",
   "metadata": {},
   "source": [
    "# Paired t-Test"
   ]
  },
  {
   "cell_type": "code",
   "execution_count": 1,
   "metadata": {},
   "outputs": [
    {
     "name": "stdout",
     "output_type": "stream",
     "text": [
      "t-statistic: -2.0769\n",
      "p-value: 0.0676\n",
      "Fail to reject H₀: No significant difference.\n"
     ]
    }
   ],
   "source": [
    "import numpy as np\n",
    "from scipy import stats\n",
    "\n",
    "# Sample data: Before and After scores of the same individuals\n",
    "before = np.array([72, 75, 78, 79, 80, 82, 85, 88, 90, 91])\n",
    "after  = np.array([74, 76, 76, 80, 82, 81, 86, 89, 92, 93])\n",
    "\n",
    "# Perform a paired t-test\n",
    "t_stat, p_value = stats.ttest_rel(before, after)\n",
    "\n",
    "# Output results\n",
    "print(f\"t-statistic: {t_stat:.4f}\")\n",
    "print(f\"p-value: {p_value:.4f}\")\n",
    "\n",
    "# Decision at α = 0.05\n",
    "alpha = 0.05\n",
    "if p_value < alpha:\n",
    "    print(\"Reject H₀: There is a significant difference between before and after.\")\n",
    "else:\n",
    "    print(\"Fail to reject H₀: No significant difference.\")"
   ]
  }
 ],
 "metadata": {
  "kernelspec": {
   "display_name": "Python 3",
   "language": "python",
   "name": "python3"
  },
  "language_info": {
   "codemirror_mode": {
    "name": "ipython",
    "version": 3
   },
   "file_extension": ".py",
   "mimetype": "text/x-python",
   "name": "python",
   "nbconvert_exporter": "python",
   "pygments_lexer": "ipython3",
   "version": "3.12.3"
  }
 },
 "nbformat": 4,
 "nbformat_minor": 2
}
